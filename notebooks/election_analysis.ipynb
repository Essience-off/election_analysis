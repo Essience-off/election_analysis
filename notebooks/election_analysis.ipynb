{
 "cells": [
  {
   "cell_type": "code",
   "execution_count": 4,
   "metadata": {},
   "outputs": [],
   "source": [
    "import sys\n",
    "import os\n",
    "\n",
    "sys.path.append(\"../\")"
   ]
  },
  {
   "cell_type": "code",
   "execution_count": 137,
   "metadata": {},
   "outputs": [],
   "source": [
    "from langchain_community.chat_models import ChatOllama\n",
    "from langchain_core.output_parsers import StrOutputParser\n",
    "from langchain_core.prompts import ChatPromptTemplate\n",
    "from langchain.output_parsers import PydanticOutputParser\n",
    "from langchain_community.document_loaders import PyPDFLoader\n",
    "from langchain_text_splitters import CharacterTextSplitter\n",
    "\n",
    "\n",
    "from langchain_chroma import Chroma\n",
    "from langchain_community.tools import DuckDuckGoSearchRun\n",
    "from langchain_community.utilities import DuckDuckGoSearchAPIWrapper\n",
    "\n",
    "\n",
    "from langchain_nomic.embeddings import NomicEmbeddings\n",
    "\n",
    "import yaml\n",
    "\n",
    "from typing import List\n",
    "from typing_extensions import TypedDict\n",
    "\n",
    "from pydantic import BaseModel, Field\n",
    "from typing import Literal, Optional\n"
   ]
  },
  {
   "cell_type": "markdown",
   "metadata": {},
   "source": [
    "# Global Variable"
   ]
  },
  {
   "cell_type": "code",
   "execution_count": 138,
   "metadata": {},
   "outputs": [],
   "source": [
    "POLITICAL_PARTI = \"nFP\" # RN / nFP / Ren\n",
    "PDF_ROOT = \"../data/raw/{}/\".format(POLITICAL_PARTI)"
   ]
  },
  {
   "cell_type": "code",
   "execution_count": 195,
   "metadata": {},
   "outputs": [],
   "source": [
    "MODEL_GRADER = \"phi3:medium\"\n",
    "YAML_GRADER_PATH = \"../prompts/grader_prompt.yaml\"\n",
    "\n",
    "MODEL_CRITICS = \"nous-hermes2:10.7b\"\n",
    "YAML_CRITICS_PATH = \"../prompts/criticer_prompt.yaml\"\n",
    "\n",
    "MODEL_QUERY_RAG_REWRITER = \"openhermes\"\n",
    "YAML_QUERY_RAG_REWRITER_PATH = \"../prompts/q_rewrite_rag_prompt.yaml\"\n",
    "\n",
    "MODEL_QUERY_WEB_REWRITER = \"openhermes\"\n",
    "YAML_QUERY_WEB_REWRITER_PATH = \"../prompts/q_rewrite_websearch_prompt.yaml\"\n",
    "\n",
    "MODEL_GENERATOR = \"nous-hermes2:10.7b\"\n",
    "YAML_GENERATOR_PATH = \"../prompts/generate_prompt.yaml\"\n",
    "\n",
    "MODEL_SUMMARY = \"nous-hermes2:10.7b\"\n",
    "YAML_SUMMARY_PATH = \"../prompts/resume_prompt.yaml\""
   ]
  },
  {
   "cell_type": "markdown",
   "metadata": {},
   "source": [
    "# Def"
   ]
  },
  {
   "cell_type": "code",
   "execution_count": 140,
   "metadata": {},
   "outputs": [],
   "source": [
    "def load_yaml_file(file_path):\n",
    "    try:\n",
    "        with open(file_path) as stream:\n",
    "            data = yaml.safe_load(stream)\n",
    "            return data\n",
    "    except yaml.YAMLError as exc:\n",
    "        print(f\"Error loading YAML: {exc}\")\n",
    "        return None"
   ]
  },
  {
   "cell_type": "code",
   "execution_count": 141,
   "metadata": {},
   "outputs": [],
   "source": [
    "def create_chain(model:str, \n",
    "                 model_output_format:str,\n",
    "                 model_temp:int,\n",
    "                 yaml_file:str, \n",
    "                 yaml_var_name:str,\n",
    "                 format_dict:dict, \n",
    "                 parser,\n",
    "                 ):\n",
    "    \n",
    "    prompt = load_yaml_file(yaml_file)[yaml_var_name]\n",
    "\n",
    "    llm = ChatOllama(model=model, \n",
    "                            format=model_output_format, \n",
    "                            temperature=model_temp,)\n",
    "\n",
    "    prompt = ChatPromptTemplate.from_messages([\n",
    "        (\"system\", prompt['sys']),\n",
    "        (\"user\", prompt['user'])\n",
    "    ])\n",
    "\n",
    "    if parser:\n",
    "        chain = prompt | llm | parser\n",
    "    else:\n",
    "        chain = prompt | llm\n",
    "\n",
    "    return chain.invoke(format_dict)"
   ]
  },
  {
   "cell_type": "code",
   "execution_count": 142,
   "metadata": {},
   "outputs": [],
   "source": [
    "def load_chunk_persist_pdf(root=PDF_ROOT) -> Chroma : \n",
    "    documents = []\n",
    "    for file in os.listdir(root):\n",
    "            if file.endswith('.pdf'):\n",
    "                pdf_path = os.path.join(root+file)\n",
    "                loader = PyPDFLoader(pdf_path)\n",
    "                documents.extend(loader.load())\n",
    "    text_splitter = CharacterTextSplitter(chunk_size=40, chunk_overlap=10)\n",
    "    # split it into chunks\n",
    "    docs = text_splitter.split_documents(documents)\n",
    "         \n",
    "    vectorstore = Chroma.from_documents(documents =docs,\n",
    "                                collection_name=\"rag-chroma\",\n",
    "                                embedding=NomicEmbeddings(model=\"nomic-embed-text-v1.5\",\n",
    "                                inference_mode='local'),\n",
    "                                )\n",
    "    \n",
    "    retriever = vectorstore.as_retriever()\n",
    "\n",
    "    return retriever"
   ]
  },
  {
   "cell_type": "markdown",
   "metadata": {},
   "source": [
    "# Load and Vectorize"
   ]
  },
  {
   "cell_type": "markdown",
   "metadata": {},
   "source": [
    "## Multiple pdf loading"
   ]
  },
  {
   "cell_type": "code",
   "execution_count": 143,
   "metadata": {},
   "outputs": [],
   "source": [
    "retriever = load_chunk_persist_pdf()"
   ]
  },
  {
   "cell_type": "markdown",
   "metadata": {},
   "source": [
    "## Load one txt file for RN and Ren"
   ]
  },
  {
   "cell_type": "code",
   "execution_count": 144,
   "metadata": {},
   "outputs": [
    {
     "data": {
      "text/plain": [
       "'# Build the RAG\\nloader = TextLoader(\"../data/raw/{partie}/{partie}.txt\".format(partie=POLITICAL_PARTI))\\ndocuments = loader.load()\\n\\n# split it into chunks\\ndocs = text_splitter.split_documents(documents)\\n\\n# load it into Chroma\\nvectorstore = Chroma.from_documents(documents =docs,\\n                            collection_name=\"rag-chroma\",\\n                            embedding=NomicEmbeddings(model=\"nomic-embed-text-v1.5\",\\n                            inference_mode=\\'local\\'),\\n                            )\\nretriever = vectorstore.as_retriever()'"
      ]
     },
     "execution_count": 144,
     "metadata": {},
     "output_type": "execute_result"
    }
   ],
   "source": [
    "'''# Build the RAG\n",
    "loader = TextLoader(\"../data/raw/{partie}/{partie}.txt\".format(partie=POLITICAL_PARTI))\n",
    "documents = loader.load()\n",
    "\n",
    "# split it into chunks\n",
    "docs = text_splitter.split_documents(documents)\n",
    "\n",
    "# load it into Chroma\n",
    "vectorstore = Chroma.from_documents(documents =docs,\n",
    "                            collection_name=\"rag-chroma\",\n",
    "                            embedding=NomicEmbeddings(model=\"nomic-embed-text-v1.5\",\n",
    "                            inference_mode='local'),\n",
    "                            )\n",
    "retriever = vectorstore.as_retriever()'''"
   ]
  },
  {
   "cell_type": "markdown",
   "metadata": {},
   "source": [
    "# Fonction in Graph"
   ]
  },
  {
   "cell_type": "markdown",
   "metadata": {},
   "source": [
    "## NODE"
   ]
  },
  {
   "cell_type": "code",
   "execution_count": 145,
   "metadata": {},
   "outputs": [],
   "source": [
    "### Retrieve RAG #### \n",
    "\n",
    "def retrieve(state):\n",
    "    print(\"---RETRIEVE---\")\n",
    "\n",
    "    question = state[\"question\"]\n",
    "    memory = state[\"memory\"]\n",
    "    documents = retriever.invoke(question)\n",
    "\n",
    "    return {\"documents\": documents, \"question\": question, \"memory\":memory}"
   ]
  },
  {
   "cell_type": "code",
   "execution_count": 146,
   "metadata": {},
   "outputs": [],
   "source": [
    "class EvaluationResult(BaseModel):\n",
    "    Result: Literal['Yes', 'No']\n",
    "    Explanation: Optional[str] = Field(None, description=\"Explanation if No\")"
   ]
  },
  {
   "cell_type": "code",
   "execution_count": 147,
   "metadata": {},
   "outputs": [],
   "source": [
    "#### Grader Rag ####\n",
    "def grade_rag(state):\n",
    "    print(\"---GRADE RAG---\")\n",
    "\n",
    "    question = state[\"question\"]\n",
    "    documents = state[\"documents\"]\n",
    "    memory=state[\"memory\"]\n",
    "\n",
    "    parser = PydanticOutputParser(pydantic_object=EvaluationResult)\n",
    "\n",
    "    grader_dict = {\n",
    "        \"documents\": documents,\n",
    "        \"question\": question,\n",
    "        \"json_formating\": parser.get_format_instructions(), \n",
    "        \"memory\":memory\n",
    "    }\n",
    "\n",
    "    critics_grader_chain = create_chain(model=MODEL_GRADER, \n",
    "                                        model_output_format='json',\n",
    "                                        model_temp=0.3,\n",
    "                                        yaml_file=YAML_GRADER_PATH, \n",
    "                                        yaml_var_name=\"Template\",\n",
    "                                        format_dict=grader_dict, \n",
    "                                        parser=parser)\n",
    "    \n",
    "    grade = critics_grader_chain.Result\n",
    "\n",
    "    if grade.lower() == \"yes\":\n",
    "            print(\"---GRADE: RAG RELEVANT---\")\n",
    "            rewrite = \"No\"\n",
    "    else:\n",
    "        print(\"---GRADE: RAG NOT RELEVANT---\")\n",
    "        # We do not include the document in filtered_docs\n",
    "        # We set a flag to indicate that we want to run web search\n",
    "        rewrite = \"Yes\"  \n",
    "\n",
    "    return {\"documents\": documents, \"question\": question, \"rewrite\": rewrite, \"memory\":memory}"
   ]
  },
  {
   "cell_type": "code",
   "execution_count": 148,
   "metadata": {},
   "outputs": [],
   "source": [
    "#### Question Re-writer RAG ####\n",
    "def rewrite_rag_q(state):\n",
    "    print(\"---REWRITE QUESTION FOR RAG---\")\n",
    "\n",
    "    question = state[\"question\"]\n",
    "    documents = state[\"documents\"]\n",
    "    memory=state[\"memory\"]\n",
    "\n",
    "    grader_dict = {\n",
    "        \"question\": question,\n",
    "    }\n",
    "\n",
    "    rewrite_question_invole = create_chain(model=MODEL_QUERY_RAG_REWRITER, \n",
    "                                        model_output_format=None,\n",
    "                                        model_temp=0.3,\n",
    "                                        yaml_file=YAML_QUERY_RAG_REWRITER_PATH, \n",
    "                                        yaml_var_name=\"Template\",\n",
    "                                        format_dict=grader_dict, \n",
    "                                        parser=StrOutputParser())\n",
    "    \n",
    "    return {\"question\":rewrite_question_invole, \"memory\":memory}"
   ]
  },
  {
   "cell_type": "code",
   "execution_count": 149,
   "metadata": {},
   "outputs": [],
   "source": [
    "#### Web Search ####\n",
    "search_wrapper = DuckDuckGoSearchAPIWrapper(region=\"fr-fr\", time=\"w\", max_results=3)\n",
    "#search = DuckDuckGoSearchResults(api_wrapper=wrapper)\n",
    "\n",
    "def web_search(state):\n",
    "\n",
    "    print(\"---WEB SEARCH---\")\n",
    "    question = state[\"question\"]\n",
    "    documents = state[\"documents\"]\n",
    "    web_docs = state[\"web_docs\"]\n",
    "    memory=state[\"memory\"]\n",
    "\n",
    "    ddg = DuckDuckGoSearchRun()\n",
    "    web_results = ddg(question)\n",
    "    \n",
    "    #docs = search_wrapper.results(question, max_results=3)\n",
    "    #web_results = \"\\n\".join([d['title'] + \"\\n\" + d['snippet'] for d in docs])\n",
    "\n",
    "    if web_docs is not None:\n",
    "        web_docs.append(web_results)\n",
    "    else:\n",
    "        web_docs = [web_results]\n",
    "\n",
    "    return {\"documents\": documents, \"question\": question, \"web_docs\": web_docs, \"memory\":memory} \n"
   ]
  },
  {
   "cell_type": "code",
   "execution_count": 150,
   "metadata": {},
   "outputs": [],
   "source": [
    "#### Generate ####\n",
    "\n",
    "def generate(state):\n",
    "    print(\"---GENERATE A RESPONSE---\")\n",
    "\n",
    "    question = state[\"question\"]\n",
    "    documents = state[\"documents\"]\n",
    "    web_docs = state[\"web_docs\"]\n",
    "    memory=state[\"memory\"]\n",
    "        \n",
    "    generator_dict = {\n",
    "        \"question\": question,\n",
    "        \"documents\": documents,\n",
    "        \"web_docs\": web_docs,\n",
    "        \"memory\": memory\n",
    "    }\n",
    "\n",
    "    generation = create_chain(model=MODEL_GENERATOR, \n",
    "                                        model_output_format=None,\n",
    "                                        model_temp=0.3,\n",
    "                                        yaml_file=YAML_GENERATOR_PATH, \n",
    "                                        yaml_var_name=\"Template\",\n",
    "                                        format_dict=generator_dict, \n",
    "                                        parser=StrOutputParser())\n",
    "    \n",
    "    return {\"documents\": documents, \"question\": question, \"web_docs\": web_docs, \"generation\": generation, \"memory\":memory}"
   ]
  },
  {
   "cell_type": "code",
   "execution_count": 151,
   "metadata": {},
   "outputs": [],
   "source": [
    "###### Critics Grader ######\n",
    "def grade_generation(state):\n",
    "    \n",
    "    print(\"---CHECK DOCUMENT RELEVANCE TO QUESTION---\")\n",
    "\n",
    "    documents = state[\"documents\"]\n",
    "    question = state[\"question\"]\n",
    "    web_docs = state[\"web_docs\"]\n",
    "    generation = state[\"generation\"]\n",
    "    memory = state[\"memory\"]\n",
    "\n",
    "    \n",
    "    parser =  PydanticOutputParser(pydantic_object=EvaluationResult)\n",
    "    critics_dict = {\n",
    "        \"generation\": generation,\n",
    "        \"json_formating\": parser.get_format_instructions(),\n",
    "        \"memory\":memory,\n",
    "    }\n",
    "\n",
    "    grader_chain_invoke = create_chain(model=MODEL_CRITICS, \n",
    "                                        model_output_format='json',\n",
    "                                        model_temp=0.3,\n",
    "                                        yaml_file=YAML_CRITICS_PATH, \n",
    "                                        yaml_var_name=\"Template\",\n",
    "                                        format_dict=critics_dict, \n",
    "                                        parser=parser)\n",
    "    \n",
    "    grade = grader_chain_invoke.Result\n",
    "    \n",
    "    if grade.lower() == \"yes\":\n",
    "            print(\"---GRADE: DOCUMENT RELEVANT---\")\n",
    "            need_web_search = \"No\"\n",
    "    else:\n",
    "        print(\"---GRADE: DOCUMENT NOT RELEVANT---\")\n",
    "        # We do not include the document in filtered_docs\n",
    "        # We set a flag to indicate that we want to run web search\n",
    "        need_web_search = \"Yes\"    \n",
    "        \n",
    "    return {\"documents\": documents, \"question\": question, \"web_docs\": web_docs, \"generation\": generation, \"memory\":memory, \"need_web_search\": need_web_search}"
   ]
  },
  {
   "cell_type": "code",
   "execution_count": 152,
   "metadata": {},
   "outputs": [],
   "source": [
    "###### Web Query Writer ######\n",
    "def rewrite_query_web(state):\n",
    "    print(\"---REWRITE QUESTION FOR WEB QUERY---\")\n",
    "    documents = state[\"documents\"]\n",
    "    question = state[\"question\"]\n",
    "    memory = state[\"memory\"]\n",
    "\n",
    "    critics_dict = {\n",
    "        \"question\": question,\n",
    "        \"memory\": memory\n",
    "    }\n",
    "\n",
    "    webquery_chain_invoke = create_chain(model=MODEL_QUERY_WEB_REWRITER, \n",
    "                                        model_output_format=None,\n",
    "                                        model_temp=0.3,\n",
    "                                        yaml_file=YAML_QUERY_WEB_REWRITER_PATH, \n",
    "                                        yaml_var_name=\"Template\",\n",
    "                                        format_dict=critics_dict, \n",
    "                                        parser=StrOutputParser())\n",
    "    \n",
    "    return {\"documents\": documents, \"question\": webquery_chain_invoke, \"memory\": memory}\n",
    "    \n"
   ]
  },
  {
   "cell_type": "markdown",
   "metadata": {},
   "source": [
    "## Router"
   ]
  },
  {
   "cell_type": "code",
   "execution_count": 153,
   "metadata": {},
   "outputs": [],
   "source": [
    "#### DECIDE TO RE_GENERATE OR NOT ####\n",
    "\n",
    "def decide_to_generate(state):\n",
    "    \"\"\"\n",
    "    Determines whether to generate an answer, or add web search\n",
    "\n",
    "    Args:\n",
    "        state (dict): The current graph state\n",
    "\n",
    "    Returns:\n",
    "        str: Binary decision for next node to call\n",
    "    \"\"\"\n",
    "\n",
    "    print(\"---ASSESS GRADED DOCUMENTS---\")\n",
    "    state[\"question\"]\n",
    "    web_search = state[\"need_web_search\"]\n",
    "    state[\"documents\"]\n",
    "\n",
    "    if web_search == \"Yes\":\n",
    "        # All documents have been filtered check_relevance\n",
    "        # We will re-generate a new query\n",
    "        print(\n",
    "            \"---DECISION: ALL DOCUMENTS ARE NOT RELEVANT TO QUESTION, INCLUDE WEB SEARCH---\"\n",
    "        )\n",
    "        return \"rewrite_query_web\"\n",
    "    else:\n",
    "        # We have relevant documents, so generate answer\n",
    "        print(\"---DECISION: GENERATE---\")\n",
    "        return \"useful\"\n",
    "    \n",
    "\n",
    "def decide_to_rag(state):\n",
    "    \"\"\"\n",
    "    Determines whether to generate an answer, or add web search\n",
    "\n",
    "    Args:\n",
    "        state (dict): The current graph state\n",
    "\n",
    "    Returns:\n",
    "        str: Binary decision for next node to call\n",
    "    \"\"\"\n",
    "\n",
    "    print(\"---ASSESS GRADED DOCUMENTS---\")\n",
    "    state[\"question\"]\n",
    "    re_rag = state[\"rewrite\"]\n",
    "    state[\"documents\"]\n",
    "\n",
    "    if re_rag == \"Yes\":\n",
    "        # All documents have been filtered check_relevance\n",
    "        # We will re-generate a new query\n",
    "        print(\n",
    "            \"---DECISION: ALL DOCUMENTS ARE NOT RELEVANT TO QUESTION---\"\n",
    "        )\n",
    "        return \"rewrite_question\"\n",
    "    else:\n",
    "        # We have relevant documents, so generate answer\n",
    "        print(\"---DECISION: WEB SEARCH---\")\n",
    "        return \"websearch\""
   ]
  },
  {
   "cell_type": "code",
   "execution_count": 197,
   "metadata": {},
   "outputs": [],
   "source": [
    "## Resume memory LLM\n",
    "\n",
    "def resume_memory_llm(state:dict)->str:\n",
    "    print(\"---IN MEMORY WRITING---\")\n",
    "\n",
    "    question = state[\"question\"]\n",
    "    generation = state[\"generation\"]\n",
    "    memory = state[\"memory\"]\n",
    "\n",
    "    if len(memory) > 1:\n",
    "        memory = state[\"memory\"]\n",
    "    else:\n",
    "        memory = \"\"\n",
    "        \n",
    "    generator_dict = {\n",
    "        \"question\": question,\n",
    "        \"generation\": generation,\n",
    "        \"memory\": memory\n",
    "    }\n",
    "\n",
    "    summary_invoke = create_chain(model=MODEL_SUMMARY, \n",
    "                            model_output_format=None,\n",
    "                            model_temp=0,\n",
    "                            yaml_file=YAML_SUMMARY_PATH, \n",
    "                            yaml_var_name=\"Template\",\n",
    "                            format_dict=generator_dict, \n",
    "                            parser=StrOutputParser())\n",
    "    \n",
    "    return {\"memory\":summary_invoke}"
   ]
  },
  {
   "cell_type": "markdown",
   "metadata": {},
   "source": [
    "# Graph FLow"
   ]
  },
  {
   "cell_type": "markdown",
   "metadata": {},
   "source": [
    "## Graphe states"
   ]
  },
  {
   "cell_type": "code",
   "execution_count": 154,
   "metadata": {},
   "outputs": [],
   "source": [
    "class GraphState(TypedDict):\n",
    "    \"\"\"\n",
    "    Represents the state of our graph.\n",
    "\n",
    "    Attributes:\n",
    "        question: question\n",
    "        generation: LLM generation\n",
    "        web_search: whether to add search\n",
    "        documents: list of documents\n",
    "        \n",
    "    \"\"\"\n",
    "\n",
    "    question: str\n",
    "    generation: str\n",
    "    web_docs: str\n",
    "    documents: List[str]\n",
    "    need_web_search: str\n",
    "    rewrite: str\n",
    "    memory: str"
   ]
  },
  {
   "cell_type": "markdown",
   "metadata": {},
   "source": [
    "## Build Graph"
   ]
  },
  {
   "cell_type": "code",
   "execution_count": 155,
   "metadata": {},
   "outputs": [],
   "source": [
    "from langgraph.graph import END, StateGraph\n",
    "from IPython.display import Image, display\n",
    "from langchain_core.runnables.graph import CurveStyle, MermaidDrawMethod, NodeColors"
   ]
  },
  {
   "cell_type": "code",
   "execution_count": 156,
   "metadata": {},
   "outputs": [],
   "source": [
    "workflow = StateGraph(GraphState)\n",
    "\n",
    "# Define the nodes\n",
    "workflow.add_node(\"retrieve\", retrieve)  # retrieve\n",
    "workflow.add_node(\"grade_rag\", grade_rag)# grade_rag\n",
    "workflow.add_node(\"rewrite_rag_q\", rewrite_rag_q)# rewrite_rag_q\n",
    "workflow.add_node(\"web_search\", web_search)# web_search\n",
    "workflow.add_node(\"generate\", generate)# generate\n",
    "workflow.add_node(\"grade_generation\", grade_generation)# grade_generation\n",
    "workflow.add_node(\"rewrite_query_web\", rewrite_query_web)# rewrite_query_web\n",
    "\n"
   ]
  },
  {
   "cell_type": "code",
   "execution_count": 157,
   "metadata": {},
   "outputs": [],
   "source": [
    "workflow.set_entry_point(\"retrieve\")\n",
    "workflow.add_edge(\"retrieve\", \"grade_rag\")\n",
    "workflow.add_conditional_edges(\n",
    "    \"grade_rag\",\n",
    "    decide_to_rag,\n",
    "    {\n",
    "        \"rewrite_question\":\"rewrite_rag_q\",\n",
    "        \"websearch\":\"web_search\"\n",
    "    },\n",
    ")\n",
    "workflow.add_edge(\"rewrite_rag_q\", \"retrieve\")\n",
    "workflow.add_edge(\"web_search\", \"generate\")\n",
    "workflow.add_edge(\"generate\", \"grade_generation\")\n",
    "workflow.add_conditional_edges(\n",
    "    \"grade_generation\",\n",
    "    decide_to_generate,\n",
    "    {\n",
    "        \"rewrite_query_web\":\"rewrite_query_web\",\n",
    "        \"useful\": END,\n",
    "    }\n",
    "\n",
    ")\n",
    "workflow.add_edge(\"rewrite_query_web\", \"web_search\")\n",
    "\n",
    "# Compile\n",
    "app = workflow.compile()"
   ]
  },
  {
   "cell_type": "code",
   "execution_count": 158,
   "metadata": {},
   "outputs": [
    {
     "data": {
      "image/jpeg": "[encoded data removed]",
      "text/plain": [
       "<IPython.core.display.Image object>"
      ]
     },
     "metadata": {},
     "output_type": "display_data"
    }
   ],
   "source": [
    "display(\n",
    "    Image(\n",
    "        app.get_graph().draw_mermaid_png(\n",
    "            draw_method=MermaidDrawMethod.API,\n",
    "        )\n",
    "    )\n",
    ")"
   ]
  },
  {
   "cell_type": "code",
   "execution_count": 161,
   "metadata": {},
   "outputs": [
    {
     "name": "stdout",
     "output_type": "stream",
     "text": [
      "---RETRIEVE---\n",
      "\"Node 'retrieve':\"\n",
      "'\\n---\\n'\n",
      "---GRADE RAG---\n",
      "---GRADE: RAG RELEVANT---\n",
      "---ASSESS GRADED DOCUMENTS---\n",
      "---DECISION: WEB SEARCH---\n",
      "\"Node 'grade_rag':\"\n",
      "'\\n---\\n'\n",
      "---WEB SEARCH---\n",
      "\"Node 'web_search':\"\n",
      "'\\n---\\n'\n",
      "---GENERATE A RESPONSE---\n",
      "\"Node 'generate':\"\n",
      "'\\n---\\n'\n",
      "---CHECK DOCUMENT RELEVANCE TO QUESTION---\n",
      "---GRADE: DOCUMENT RELEVANT---\n",
      "---ASSESS GRADED DOCUMENTS---\n",
      "---DECISION: GENERATE---\n",
      "\"Node 'grade_generation':\"\n",
      "'\\n---\\n'\n",
      "('Le programme économique du Nouveau Front Populaire pour les législatives de '\n",
      " \"2024 est axé sur trois priorités principales : agir pour le pouvoir d'achat \"\n",
      " 'des Français, engager une bifurcation écologique et réparer et développer '\n",
      " 'les services publics. Le programme prévoit un investissement total de 106 '\n",
      " \"milliards d'euros sur trois ans.\\n\"\n",
      " '\\n'\n",
      " \"Pour agir pour le pouvoir d'achat des Français, le Nouveau Front Populaire \"\n",
      " \"prévoit d'investir 90 milliards d'euros dans la réponse à l'urgence sociale. \"\n",
      " 'Cette priorité vise à améliorer les conditions de vie des citoyens français '\n",
      " 'et à combattre les inégalités sociales.\\n'\n",
      " '\\n'\n",
      " 'La bifurcation écologique est une autre priorité du programme, avec un '\n",
      " \"investissement de 30 milliards d'euros dans des dépenses et investissements \"\n",
      " 'publics. Cette mesure vise à lutter contre le changement climatique et à '\n",
      " 'préserver la vie sauvage en mettant en œuvre des politiques écologiques '\n",
      " 'durables.\\n'\n",
      " '\\n'\n",
      " 'Enfin, pour réparer et développer les services publics, le Nouveau Front '\n",
      " \"Populaire prévoit d'investir également 30 milliards d'euros. Cette priorité \"\n",
      " \"vise à améliorer la qualité des services publics tels que l'éducation, la \"\n",
      " 'santé et la sécurité sociale.\\n'\n",
      " '\\n'\n",
      " 'Pour financer ces investissements, le Nouveau Front Populaire prévoit de '\n",
      " 'mobiliser différentes sources de revenus, notamment une surcotisation sur '\n",
      " 'les hauts salaires et la contribution des revenus qui échappent à la '\n",
      " \"cotisation, tels que les dividendes, les rachats d'actions, l'intéressement \"\n",
      " 'et la participation.\\n'\n",
      " '\\n'\n",
      " 'La viabilité économique du programme économique du Nouveau Front Populaire '\n",
      " 'pour les législatives de 2024 dépend de plusieurs facteurs, notamment la '\n",
      " \"capacité à gérer efficacement les ressources publiques, l'effet \"\n",
      " \"inflationniste potentiel des investissements et l'impact sur la \"\n",
      " \"compétitivité économique. Il est important également d'évaluer le programme \"\n",
      " 'dans le contexte de la situation économique mondiale et européenne.\\n'\n",
      " '\\n'\n",
      " 'En conclusion, il est difficile de déterminer si le programme économique du '\n",
      " \"Nouveau Front Populaire pour les législatives de 2024 est viable d'un point \"\n",
      " 'de vue économique sans une analyse approfondie des coûts et bénéfices, ainsi '\n",
      " \"que des impacts sur la croissance économique et l'emploi. Il est essentiel \"\n",
      " \"d'examiner les prévisions budgétaires, les politiques fiscales et les \"\n",
      " \"mesures de soutien à l'investissement pour déterminer si le programme peut \"\n",
      " \"être financé de manière durable et s'il répond aux besoins économiques et \"\n",
      " 'sociaux des citoyens français.')\n"
     ]
    }
   ],
   "source": [
    "from pprint import pprint\n",
    "\n",
    "# Run\n",
    "inputs = {\"question\": \"Est-ce que le programme économique du front populaire pour les législatives de 2024 est-il viable d'un point de vue économique ?\"}\n",
    "for output in app.stream(inputs):\n",
    "    for key, value in output.items():\n",
    "        # Node\n",
    "        pprint(f\"Node '{key}':\")\n",
    "        # Optional: print full state at each node\n",
    "        # pprint.pprint(value[\"keys\"], indent=2, width=80, depth=None)\n",
    "    pprint(\"\\n---\\n\")\n",
    "\n",
    "# Final generation\n",
    "pprint(value[\"generation\"])"
   ]
  },
  {
   "cell_type": "code",
   "execution_count": null,
   "metadata": {},
   "outputs": [],
   "source": [
    "resume_memory_llm(value)"
   ]
  },
  {
   "cell_type": "code",
   "execution_count": 160,
   "metadata": {},
   "outputs": [
    {
     "name": "stdout",
     "output_type": "stream",
     "text": [
      "('Le programme économique du Nouveau Front Populaire (NFP) pour les élections '\n",
      " 'législatives se concentre sur trois principales priorités : agir pour le '\n",
      " \"pouvoir d'achat des Français, réaliser une bifurcation écologique pour \"\n",
      " 'préserver le climat et la vie sauvage, et réparer et développer les services '\n",
      " 'publics.\\n'\n",
      " '\\n'\n",
      " \"1. Agir pour le pouvoir d'achat des Français : Le gouvernement du NFP vise à \"\n",
      " 'améliorer la situation économique des Français en augmentant leur pouvoir '\n",
      " \"d'achat. Pour cela, ils souhaitent mettre en place une politique économique \"\n",
      " 'vertueuse qui favoriserait les classes populaires et moyennes. Ce serait '\n",
      " 'réalisé par une réduction de la fiscalité pour les revenus inférieurs à 2500 '\n",
      " '€, un salaire minimum garanti à 1 800 € brut mensuel, et une augmentation '\n",
      " 'des allocations familiales.\\n'\n",
      " '\\n'\n",
      " '2. Une bifurcation écologique pour préserver le climat et la vie sauvage : '\n",
      " \"Le NFP s'engage à réaliser une transformation profonde de nos modes de \"\n",
      " \"production et de consommation en faveur d'une économie plus respectueuse de \"\n",
      " \"l'environnement. Ils souhaitent mettre en place une planification écologique \"\n",
      " 'de long terme qui permettrait à la France de remplir ses engagements '\n",
      " 'climatiques et de protection de la biodiversité.\\n'\n",
      " '\\n'\n",
      " \"3. Réparer et développer les services publics : Le NFP s'engage à réparer \"\n",
      " \"l'effondrement des services publics en leur redonnant une place centrale \"\n",
      " 'dans notre société. Pour cela, ils souhaitent remettre des moyens humains et '\n",
      " 'financiers aux services publics en accord avec le travail fourni par les '\n",
      " \"fonctionnaires et les besoins de la population. Leur objectif est d'assurer \"\n",
      " \"l'accès à tous aux services publics fondamentaux tels que l'éducation, la \"\n",
      " 'santé, les transports en commun, etc., dans un délai de 30 minutes du '\n",
      " 'domicile.\\n'\n",
      " '\\n'\n",
      " 'La viabilité économique du programme du NFP est sujet à débat et analyse '\n",
      " 'approfondie. Certains critiques ont qualifié le projet de \"délire total\" en '\n",
      " \"raison des coûts importants qu'il impliquerait pour le budget public \"\n",
      " \"français. Cependant, d'autres économistes et spécialistes du domaine \"\n",
      " 'estiment que certains aspects du programme sont réalisables avec une gestion '\n",
      " 'adéquate des ressources publiques et une réorientation de certaines '\n",
      " 'priorités économiques.\\n'\n",
      " '\\n'\n",
      " 'En conclusion, le programme économique du Nouveau Front Populaire pour les '\n",
      " 'élections législatives se concentre sur trois axes principaux : améliorer le '\n",
      " \"pouvoir d'achat des Français, réaliser une bifurcation écologique et réparer \"\n",
      " 'et développer les services publics. La viabilité économique de ce programme '\n",
      " 'est un sujet de débat et nécessite une analyse approfondie pour être évaluée '\n",
      " 'de manière complète et objective.')\n"
     ]
    }
   ],
   "source": [
    "pprint(value[\"generation\"])"
   ]
  }
 ],
 "metadata": {
  "kernelspec": {
   "display_name": "election-analysis-Sd75XRln-py3.12",
   "language": "python",
   "name": "python3"
  },
  "language_info": {
   "codemirror_mode": {
    "name": "ipython",
    "version": 3
   },
   "file_extension": ".py",
   "mimetype": "text/x-python",
   "name": "python",
   "nbconvert_exporter": "python",
   "pygments_lexer": "ipython3",
   "version": "3.12.3"
  }
 },
 "nbformat": 4,
 "nbformat_minor": 2
}
